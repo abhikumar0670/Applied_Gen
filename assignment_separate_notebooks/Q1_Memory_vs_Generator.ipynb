{
 "cells": [
  {
   "cell_type": "markdown",
   "id": "23104de8",
   "metadata": {},
   "source": [
    "# Q1 — Memory vs Generator Data Loading (Rubric-focused)\n",
    "This notebook creates dummy image folders mirroring `./images_dataSAT/class_0_non_agri/` and `./images_dataSAT/class_1_agri/` then performs the exact directory/image tasks required by the rubric."
   ]
  },
  {
   "cell_type": "code",
   "execution_count": null,
   "id": "b93088c9",
   "metadata": {},
   "outputs": [],
   "source": [
    "import os, glob\n",
    "from pathlib import Path\n",
    "from PIL import Image\n",
    "import numpy as np\n",
    "import matplotlib.pyplot as plt\n",
    "\n",
    "# Create dummy dataset structure\n",
    "root = Path(\"images_dataSAT\")\n",
    "non_agri = root/\"class_0_non_agri\"\n",
    "agri = root/\"class_1_agri\"\n",
    "non_agri.mkdir(parents=True, exist_ok=True)\n",
    "agri.mkdir(parents=True, exist_ok=True)\n",
    "\n",
    "# generate 6 small dummy images per class if not present\n",
    "for folder in (non_agri, agri):\n",
    "    for i in range(6):\n",
    "        p = folder/f\"img_{i}.jpg\"\n",
    "        if not p.exists():\n",
    "            img = (np.random.rand(64,64,3)*255).astype('uint8')\n",
    "            Image.fromarray(img).save(p)\n",
    "\n",
    "# 1) Determine shape of a single image stored in `image_data`\n",
    "image_path = sorted(list(non_agri.glob(\"*\")))[0]\n",
    "image_data = np.array(Image.open(image_path).convert(\"RGB\"))\n",
    "print('Single image path:', image_path)\n",
    "print('image_data shape:', image_data.shape)  # (H, W, 3)\n",
    "\n",
    "# 2) Display the first four images in './images_dataSAT/class_0_non_agri/'\n",
    "first_four = sorted(list(non_agri.glob(\"*\")))[:4]\n",
    "plt.figure(figsize=(6,6))\n",
    "for i,p in enumerate(first_four,1):\n",
    "    plt.subplot(2,2,i)\n",
    "    plt.imshow(Image.open(p).convert('RGB'))\n",
    "    plt.title(p.name)\n",
    "    plt.axis('off')\n",
    "plt.suptitle('First four images: class_0_non_agri')\n",
    "plt.show()\n",
    "\n",
    "# 3) Create sorted list agri_images_paths containing full paths from dir_agri\n",
    "dir_agri = agri\n",
    "agri_images_paths = sorted([str(p.resolve()) for p in dir_agri.glob('*') if p.suffix.lower() in {'.jpg','.jpeg','.png'}])\n",
    "print('\\nagri_images_paths (count):', len(agri_images_paths))\n",
    "print('Sample:', agri_images_paths[:5])\n",
    "\n",
    "# 4) Count images in './images_dataSAT/class_1_agri/'\n",
    "agri_count = len(agri_images_paths)\n",
    "print('\\nCount in ./images_dataSAT/class_1_agri/:', agri_count)\n",
    "\n",
    "# 5) (Again) Display first four images in non-agri (explicit)\n",
    "plt.figure(figsize=(6,6))\n",
    "for i,p in enumerate(first_four,1):\n",
    "    plt.subplot(2,2,i)\n",
    "    plt.imshow(Image.open(p).convert('RGB'))\n",
    "    plt.title(p.name)\n",
    "    plt.axis('off')\n",
    "plt.suptitle('First four images (repeat)')\n",
    "plt.show()"
   ]
  }
 ],
 "metadata": {
  "kernelspec": {
   "display_name": "Python 3",
   "language": "python",
   "name": "python3"
  },
  "language_info": {
   "name": "python",
   "version": "3.x"
  }
 },
 "nbformat": 4,
 "nbformat_minor": 5
}
