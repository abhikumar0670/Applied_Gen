{
 "cells": [
  {
   "cell_type": "markdown",
   "id": "c4a01f6a",
   "metadata": {},
   "source": [
    "# Q7 — Vision Transformers in Keras (Hybrid)\n",
    "Loads (demo) pre-trained CNN, picks feature layer, builds CNN+ViT hybrid, compiles and shows training config."
   ]
  },
  {
   "cell_type": "code",
   "execution_count": null,
   "id": "1e6011a0",
   "metadata": {},
   "outputs": [],
   "source": [
    "from tensorflow.keras import layers, models\n",
    "from tensorflow.keras.models import load_model\n",
    "import numpy as np\n",
    "\n",
    "# Build and save a demo CNN then reload to simulate load_model()\n",
    "demo = models.Sequential([\n",
    "    layers.Input(shape=(64,64,3)),\n",
    "    layers.Conv2D(16,3,activation='relu'),\n",
    "    layers.MaxPooling2D(),\n",
    "    layers.Conv2D(32,3,activation='relu', name='feat_layer'),\n",
    "    layers.GlobalAveragePooling2D(),\n",
    "    layers.Dense(2, activation='softmax')\n",
    "])\n",
    "demo.save('demo_cnn.h5')\n",
    "\n",
    "# 1) Load pre-trained CNN\n",
    "cnn_model = load_model('demo_cnn.h5')\n",
    "print('Loaded cnn_model summary:')\n",
    "cnn_model.summary()\n",
    "\n",
    "# 2) Choose a feature layer name\n",
    "feature_layer_name = 'feat_layer'\n",
    "print('feature_layer_name:', feature_layer_name)\n",
    "\n",
    "# 3) Define build_cnn_vit_hybrid\n",
    "def build_cnn_vit_hybrid(cnn, feature_layer_name, num_classes=2, proj_dim=32, num_heads=2, depth=1):\n",
    "    cnn.trainable = False\n",
    "    feat_extractor = models.Model(inputs=cnn.input, outputs=cnn.get_layer(feature_layer_name).output)\n",
    "    inputs = cnn.input\n",
    "    x = feat_extractor(inputs)  # (B,H,W,C)\n",
    "    x = layers.Reshape((-1, int(x.shape[-1])))(x)  # tokens\n",
    "    x = layers.Dense(proj_dim)(x)\n",
    "    for _ in range(depth):\n",
    "        attn = layers.MultiHeadAttention(num_heads=num_heads, key_dim=proj_dim)(x, x)\n",
    "        x = layers.Add()([x, attn])\n",
    "        x = layers.LayerNormalization()(x)\n",
    "        mlp = layers.Dense(proj_dim*2, activation='gelu')(x)\n",
    "        mlp = layers.Dense(proj_dim)(mlp)\n",
    "        x = layers.Add()([x, mlp])\n",
    "    x = layers.GlobalAveragePooling1D()(x)\n",
    "    outputs = layers.Dense(num_classes, activation='softmax')(x)\n",
    "    return models.Model(inputs, outputs, name='cnn_vit_hybrid')\n",
    "\n",
    "hybrid_model = build_cnn_vit_hybrid(cnn_model, feature_layer_name, num_classes=2)\n",
    "hybrid_model.compile(optimizer='adam', loss='categorical_crossentropy', metrics=['accuracy'])\n",
    "print('Hybrid compiled. Training config: epochs=2, batch_size=8 (example)')"
   ]
  }
 ],
 "metadata": {
  "kernelspec": {
   "display_name": "Python 3",
   "language": "python",
   "name": "python3"
  },
  "language_info": {
   "name": "python",
   "version": "3.x"
  }
 },
 "nbformat": 4,
 "nbformat_minor": 5
}
