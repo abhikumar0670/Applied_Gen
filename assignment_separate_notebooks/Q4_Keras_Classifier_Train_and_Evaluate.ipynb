{
 "cells": [
  {
   "cell_type": "markdown",
   "id": "e994a92b",
   "metadata": {},
   "source": [
    "# Q4 — Train & Evaluate a Keras-Based Classifier\n",
    "Per rubric: use os.walk to collect filenames, create validation_generator, build `test_model` with 4 Conv2D and 5 Dense layers, checkpoint on val_accuracy, plot losses."
   ]
  },
  {
   "cell_type": "code",
   "execution_count": null,
   "id": "b9619fd0",
   "metadata": {},
   "outputs": [],
   "source": [
    "import os\n",
    "from tensorflow.keras.preprocessing.image import ImageDataGenerator\n",
    "from tensorflow.keras import Sequential\n",
    "from tensorflow.keras.layers import Conv2D, MaxPooling2D, Flatten, Dense, Dropout\n",
    "from tensorflow.keras.callbacks import ModelCheckpoint, EarlyStopping\n",
    "import matplotlib.pyplot as plt\n",
    "\n",
    "dataset_path = 'images_dataSAT'\n",
    "# 1) os.walk to build fnames\n",
    "fnames = []\n",
    "for root, dirs, files in os.walk(dataset_path):\n",
    "    for f in files:\n",
    "        if f.lower().endswith(('.png','.jpg','.jpeg')):\n",
    "            fnames.append(os.path.join(root,f))\n",
    "print('Total files via os.walk:', len(fnames))\n",
    "\n",
    "# generators with validation split\n",
    "datagen = ImageDataGenerator(rescale=1./255, validation_split=0.2)\n",
    "train_gen = datagen.flow_from_directory(dataset_path, target_size=(64,64), batch_size=4, subset='training', class_mode='categorical')\n",
    "validation_generator = datagen.flow_from_directory(dataset_path, target_size=(64,64), batch_size=4, subset='validation', class_mode='categorical', shuffle=False)\n",
    "\n",
    "# test_model: 4 Conv2D + 5 Dense layers\n",
    "test_model = Sequential([\n",
    "    Conv2D(16,3,activation='relu', input_shape=(64,64,3)),\n",
    "    MaxPooling2D(),\n",
    "    Conv2D(32,3,activation='relu'),\n",
    "    MaxPooling2D(),\n",
    "    Conv2D(64,3,activation='relu'),\n",
    "    MaxPooling2D(),\n",
    "    Conv2D(64,3,activation='relu'),  # 4th Conv2D\n",
    "    MaxPooling2D(),\n",
    "    Flatten(),\n",
    "    Dense(128, activation='relu'),  # 1\n",
    "    Dense(64, activation='relu'),   # 2\n",
    "    Dense(32, activation='relu'),   # 3\n",
    "    Dense(16, activation='relu'),   # 4\n",
    "    Dense(train_gen.num_classes, activation='softmax')  # 5 output dense\n",
    "])\n",
    "print('Total layers in test_model:', len(test_model.layers))\n",
    "test_model.compile(optimizer='adam', loss='categorical_crossentropy', metrics=['accuracy'])\n",
    "\n",
    "# checkpoint\n",
    "ckpt = ModelCheckpoint('q4_best.h5', monitor='val_accuracy', save_best_only=True, mode='max', verbose=1)\n",
    "es = EarlyStopping(monitor='val_accuracy', patience=3, restore_best_weights=True)\n",
    "\n",
    "hist = test_model.fit(train_gen, validation_data=validation_generator, epochs=3, callbacks=[ckpt, es])\n",
    "\n",
    "# plot training & validation loss\n",
    "plt.plot(hist.history['loss'], label='train_loss')\n",
    "plt.plot(hist.history['val_loss'], label='val_loss')\n",
    "plt.legend(); plt.title('Train vs Val Loss'); plt.xlabel('Epoch'); plt.show()"
   ]
  }
 ],
 "metadata": {
  "kernelspec": {
   "display_name": "Python 3",
   "language": "python",
   "name": "python3"
  },
  "language_info": {
   "name": "python",
   "version": "3.x"
  }
 },
 "nbformat": 4,
 "nbformat_minor": 5
}
