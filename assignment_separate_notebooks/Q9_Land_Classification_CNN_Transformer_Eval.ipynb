{
 "cells": [
  {
   "cell_type": "markdown",
   "id": "6f760bbf",
   "metadata": {},
   "source": [
    "# Q9 — Land Classification: CNN-Transformer Integration Evaluation\n",
    "Defines dataset dir and hyperparams, instantiates a small PyTorch hybrid model, evaluates Keras and PyTorch models using print_metrics."
   ]
  },
  {
   "cell_type": "code",
   "execution_count": null,
   "id": "f2af38ff",
   "metadata": {},
   "outputs": [],
   "source": [
    "import numpy as np\n",
    "from sklearn.metrics import accuracy_score, precision_score, recall_score, f1_score, confusion_matrix, classification_report\n",
    "import torch, torch.nn as nn\n",
    "from torchvision import datasets, transforms\n",
    "from torch.utils.data import DataLoader\n",
    "\n",
    "DATASET_DIR = 'images_dataSAT'\n",
    "IMG = (64,64)\n",
    "BATCH = 4\n",
    "EPOCHS = 2\n",
    "\n",
    "def print_metrics(y_true, y_pred, labels=None):\n",
    "    print('Accuracy:', accuracy_score(y_true, y_pred))\n",
    "    print('Precision:', precision_score(y_true, y_pred, average='weighted', zero_division=0))\n",
    "    print('Recall:', recall_score(y_true, y_pred, average='weighted', zero_division=0))\n",
    "    print('F1:', f1_score(y_true, y_pred, average='weighted', zero_division=0))\n",
    "    print('\\nClassification Report:\\n', classification_report(y_true, y_pred, target_names=labels, zero_division=0))\n",
    "\n",
    "# Keras part: produce dummy arrays (replace with real model outputs)\n",
    "y_true_k = np.random.randint(0,2, size=20)\n",
    "y_pred_k = np.random.randint(0,2, size=20)\n",
    "print('Keras evaluation (demo random):'); print_metrics(y_true_k, y_pred_k)\n",
    "\n",
    "# PyTorch model instantiate & eval\n",
    "tf = transforms.Compose([transforms.Resize(IMG), transforms.ToTensor()])\n",
    "val_ds = datasets.ImageFolder(DATASET_DIR, transform=tf)\n",
    "val_loader = DataLoader(val_ds, batch_size=BATCH, shuffle=False)\n",
    "\n",
    "# small PyTorch hybrid model (same as Q8)\n",
    "class SmallHybrid(nn.Module):\n",
    "    def __init__(self, num_classes):\n",
    "        super().__init__()\n",
    "        self.cnn = nn.Sequential(nn.Conv2d(3,16,3,padding=1), nn.ReLU(), nn.MaxPool2d(2))\n",
    "        self.fc = nn.Linear(16*32*32, num_classes)\n",
    "    def forward(self,x):\n",
    "        b = x.size(0)\n",
    "        f = self.cnn(x).view(b,-1)\n",
    "        return self.fc(f)\n",
    "\n",
    "device = torch.device('cuda' if torch.cuda.is_available() else 'cpu')\n",
    "model = SmallHybrid(num_classes=len(val_ds.classes)).to(device)\n",
    "# run inference to collect preds (random init, so results are demo)\n",
    "all_preds, all_labels = [], []\n",
    "model.eval()\n",
    "with torch.no_grad():\n",
    "    for xb, yb in val_loader:\n",
    "        xb = xb.to(device)\n",
    "        out = model(xb)\n",
    "        preds = out.argmax(dim=1).cpu().numpy()\n",
    "        all_preds.extend(preds.tolist()); all_labels.extend(yb.numpy().tolist())\n",
    "\n",
    "print('PyTorch evaluation (demo):'); print_metrics(np.array(all_labels), np.array(all_preds), labels=val_ds.classes)"
   ]
  }
 ],
 "metadata": {
  "kernelspec": {
   "display_name": "Python 3",
   "language": "python",
   "name": "python3"
  },
  "language_info": {
   "name": "python",
   "version": "3.x"
  }
 },
 "nbformat": 4,
 "nbformat_minor": 5
}
