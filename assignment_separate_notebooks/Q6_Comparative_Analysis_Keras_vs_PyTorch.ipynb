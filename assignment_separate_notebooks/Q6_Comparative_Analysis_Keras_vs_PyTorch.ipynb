{
 "cells": [
  {
   "cell_type": "markdown",
   "id": "296bf1b4",
   "metadata": {},
   "source": [
    "# Q6 — Comparative Analysis of Keras and PyTorch Models\n",
    "Includes explanation for `preds > 0.5`, functions to print metrics for Keras and PyTorch, and computing false negatives."
   ]
  },
  {
   "cell_type": "code",
   "execution_count": null,
   "id": "b091b48d",
   "metadata": {},
   "outputs": [],
   "source": [
    "import numpy as np\n",
    "from sklearn.metrics import accuracy_score, precision_score, recall_score, f1_score, confusion_matrix, classification_report\n",
    "\n",
    "def print_metrics(y_true, y_pred_prob_or_labels, binary=True, thresh=0.5):\n",
    "    if binary:\n",
    "        if y_pred_prob_or_labels.ndim==1 or y_pred_prob_or_labels.dtype==float:\n",
    "            y_hat = (np.array(y_pred_prob_or_labels) > thresh).astype(int)\n",
    "        else:\n",
    "            y_hat = np.array(y_pred_prob_or_labels)\n",
    "        y_true = np.array(y_true)\n",
    "        print('Accuracy:', accuracy_score(y_true, y_hat))\n",
    "        print('Precision:', precision_score(y_true, y_hat, zero_division=0))\n",
    "        print('Recall:', recall_score(y_true, y_hat, zero_division=0))\n",
    "        print('F1:', f1_score(y_true, y_hat, zero_division=0))\n",
    "        cm = confusion_matrix(y_true, y_hat)\n",
    "        print('Confusion matrix:\\n', cm)\n",
    "        if cm.shape==(2,2):\n",
    "            print('False Negatives (class1 predicted as 0):', cm[1,0])\n",
    "    else:\n",
    "        print(classification_report(y_true, y_pred_prob_or_labels, zero_division=0))\n",
    "\n",
    "# Explanation: preds > 0.5 converts probabilities into binary class predictions using 0.5 threshold.\n",
    "print('Explanation: preds > 0.5 converts probabilities into class labels (0/1) using 0.5 threshold.')\n",
    "\n",
    "# Demo with random data (replace with actual model outputs)\n",
    "y_true = np.random.randint(0,2, size=50)\n",
    "y_probs = np.random.rand(50)\n",
    "print_metrics(y_true, y_probs, binary=True)"
   ]
  }
 ],
 "metadata": {
  "kernelspec": {
   "display_name": "Python 3",
   "language": "python",
   "name": "python3"
  },
  "language_info": {
   "name": "python",
   "version": "3.x"
  }
 },
 "nbformat": 4,
 "nbformat_minor": 5
}
