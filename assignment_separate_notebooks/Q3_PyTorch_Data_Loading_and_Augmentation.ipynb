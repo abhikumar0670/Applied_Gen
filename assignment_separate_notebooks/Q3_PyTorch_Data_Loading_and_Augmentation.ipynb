{
 "cells": [
  {
   "cell_type": "markdown",
   "id": "b65bc5c7",
   "metadata": {},
   "source": [
    "# Q3 — Data Loading & Augmentation Using PyTorch\n",
    "Builds `custom_transform`, loads dataset with `ImageFolder`, prints class mapping, retrieves a batch and displays images."
   ]
  },
  {
   "cell_type": "code",
   "execution_count": null,
   "id": "2db67f52",
   "metadata": {},
   "outputs": [],
   "source": [
    "import torch\n",
    "from torchvision import transforms, datasets\n",
    "from torch.utils.data import DataLoader\n",
    "import matplotlib.pyplot as plt\n",
    "import numpy as np\n",
    "\n",
    "data_dir = 'images_dataSAT'\n",
    "custom_transform = transforms.Compose([\n",
    "    transforms.Resize((64,64)),\n",
    "    transforms.RandomHorizontalFlip(p=0.5),\n",
    "    transforms.RandomRotation(degrees=15),\n",
    "    transforms.ToTensor()\n",
    "])\n",
    "\n",
    "dataset = datasets.ImageFolder(root=data_dir, transform=custom_transform)\n",
    "print('Classes:', dataset.classes)\n",
    "print('Class to idx:', dataset.class_to_idx)\n",
    "\n",
    "loader = DataLoader(dataset, batch_size=8, shuffle=True)\n",
    "imgs, labels = next(iter(loader))\n",
    "print('Batch shapes:', imgs.shape, labels.shape)\n",
    "\n",
    "# display images\n",
    "plt.figure(figsize=(8,6))\n",
    "for i in range(min(8, imgs.size(0))):\n",
    "    img = imgs[i].permute(1,2,0).numpy()\n",
    "    plt.subplot(2,4,i+1)\n",
    "    plt.imshow(img)\n",
    "    plt.title(f'label={labels[i].item()}')\n",
    "    plt.axis('off')\n",
    "plt.suptitle('Augmented batch (PyTorch)')\n",
    "plt.show()"
   ]
  }
 ],
 "metadata": {
  "kernelspec": {
   "display_name": "Python 3",
   "language": "python",
   "name": "python3"
  },
  "language_info": {
   "name": "python",
   "version": "3.x"
  }
 },
 "nbformat": 4,
 "nbformat_minor": 5
}
